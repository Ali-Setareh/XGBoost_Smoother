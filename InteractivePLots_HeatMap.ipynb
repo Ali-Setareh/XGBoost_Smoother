{
 "cells": [
  {
   "cell_type": "markdown",
   "metadata": {},
   "source": [
    "# Heat map of the current matrix "
   ]
  },
  {
   "cell_type": "code",
   "execution_count": 3,
   "metadata": {},
   "outputs": [
    {
     "data": {
      "application/vnd.jupyter.widget-view+json": {
       "model_id": "0a9813577cd745e592baa396c53f8e06",
       "version_major": 2,
       "version_minor": 0
      },
      "text/plain": [
       "interactive(children=(IntSlider(value=1, description='Iteration:', max=1000, min=1), Output()), _dom_classes=(…"
      ]
     },
     "metadata": {},
     "output_type": "display_data"
    },
    {
     "data": {
      "application/vnd.jupyter.widget-view+json": {
       "model_id": "7d4ab4772e494db188e2fa70c288e74d",
       "version_major": 2,
       "version_minor": 0
      },
      "text/plain": [
       "IntSlider(value=1, description='Iteration:', max=1000, min=1)"
      ]
     },
     "metadata": {},
     "output_type": "display_data"
    }
   ],
   "source": [
    "import pyreadr\n",
    "import seaborn as sns\n",
    "import matplotlib.pyplot as plt\n",
    "import pandas as pd\n",
    "import numpy as np\n",
    "import ipywidgets as widgets\n",
    "from IPython.display import display\n",
    "import os \n",
    "\n",
    "current_directory = os.getcwd()\n",
    "\n",
    "folder_name = \"weight_tracking\"  \n",
    "\n",
    "directory_path = os.path.join(current_directory, folder_name)\n",
    "\n",
    "file_count = len([name for name in os.listdir(directory_path) if os.path.isfile(os.path.join(directory_path, name))])\n",
    "\n",
    "# Function to load and plot heatmap for a given index\n",
    "def plot_heatmap(file_index):\n",
    "    rds_file_path = f\"{directory_path}/S_curr_iteration_{file_index}.rds\"\n",
    "    \n",
    "    \n",
    "    rds_data = pyreadr.read_r(rds_file_path)\n",
    "    \n",
    "    # Extract the data from the dictionary\n",
    "    df = None\n",
    "    for key in rds_data.keys():\n",
    "        df = rds_data[key]\n",
    "\n",
    "    \n",
    "    if not isinstance(df, pd.DataFrame):\n",
    "        df = pd.DataFrame(df)\n",
    "\n",
    "    # Create a custom diverging colormap centered at 0 \n",
    "    cmap = sns.diverging_palette(240, 10, as_cmap=True)  \n",
    "\n",
    "    \n",
    "    plt.figure(figsize=(10, 8))\n",
    "    sns.heatmap(df, cmap=cmap, center=0, cbar=True, xticklabels=False, yticklabels=False)\n",
    "    plt.xlabel(\"\")\n",
    "    plt.ylabel(\"\")\n",
    "    plt.title(f\"Heatmap of Weights for All X - Iteration {file_index}\")\n",
    "    plt.show()\n",
    "\n",
    "\n",
    "slider = widgets.IntSlider(value=1, min=1, max=file_count, step=1, description='Iteration:')\n",
    "\n",
    "# Link the slider to the plotting function\n",
    "widgets.interact(plot_heatmap, file_index=slider)\n",
    "\n",
    "# Display the slider\n",
    "display(slider)\n"
   ]
  },
  {
   "cell_type": "markdown",
   "metadata": {},
   "source": [
    "# Make a GIF to visualize the weight matrix evolution "
   ]
  },
  {
   "cell_type": "code",
   "execution_count": 3,
   "metadata": {},
   "outputs": [
    {
     "name": "stderr",
     "output_type": "stream",
     "text": [
      "C:\\Users\\alise\\AppData\\Local\\Temp\\ipykernel_20388\\1740936097.py:62: DeprecationWarning: Starting with ImageIO v3 the behavior of this function will switch to that of iio.v3.imread. To keep the current behavior (and make this warning disappear) use `import imageio.v2 as imageio` or call `imageio.v2.imread` directly.\n",
      "  image = imageio.imread(filename)\n"
     ]
    },
    {
     "name": "stdout",
     "output_type": "stream",
     "text": [
      "GIF saved at h:\\My Drive\\Job\\CausalInference\\XGBoost_Smoother\\heatmap_animation.gif\n"
     ]
    }
   ],
   "source": [
    "import pyreadr\n",
    "import seaborn as sns\n",
    "import matplotlib.pyplot as plt\n",
    "import pandas as pd\n",
    "import numpy as np\n",
    "import imageio\n",
    "import os\n",
    "\n",
    "current_directory = os.getcwd()\n",
    "\n",
    "folder_name = \"weight_tracking\"  \n",
    "directory_path = os.path.join(current_directory, folder_name)\n",
    "\n",
    "# Create a 'gif' folder inside 'weight_tracking' to store the images\n",
    "gif_folder_name = \"gif\"\n",
    "gif_folder_path = os.path.join(directory_path, gif_folder_name)\n",
    "os.makedirs(gif_folder_path, exist_ok=True)\n",
    "\n",
    "file_count = len([name for name in os.listdir(directory_path) if os.path.isfile(os.path.join(directory_path, name))])\n",
    "\n",
    "images = []\n",
    "\n",
    "# Generate and save each heatmap as an image\n",
    "for i in range(1, file_count + 1):\n",
    "    rds_file_path = f\"{directory_path}/S_curr_iteration_{i}.rds\"\n",
    "    \n",
    "    \n",
    "    rds_data = pyreadr.read_r(rds_file_path)\n",
    "    \n",
    "    # Extract the data from the dictionary\n",
    "    df = None\n",
    "    for key in rds_data.keys():\n",
    "        df = rds_data[key]\n",
    "\n",
    "    \n",
    "    if not isinstance(df, pd.DataFrame):\n",
    "        df = pd.DataFrame(df)\n",
    "\n",
    "    # Create a custom diverging colormap centered at 0\n",
    "    cmap = sns.diverging_palette(240, 10, as_cmap=True)\n",
    "\n",
    "    \n",
    "    plt.figure(figsize=(10, 8))\n",
    "    sns.heatmap(df, cmap=cmap, center=0, cbar=True, xticklabels=False, yticklabels=False)\n",
    "    plt.xlabel(\"\")\n",
    "    plt.ylabel(\"\")\n",
    "    plt.title(f\"Heatmap of Weights for All X - Iteration {i}\")\n",
    "\n",
    "    # Save the image in the 'gif' folder\n",
    "    image_filename = os.path.join(gif_folder_path, f\"heatmap_{i}.png\")\n",
    "    plt.savefig(image_filename)\n",
    "    plt.close()\n",
    "    \n",
    "    images.append(image_filename)\n",
    "\n",
    "\n",
    "output_gif_path = os.path.join(current_directory, \"heatmap_animation.gif\")\n",
    "\n",
    "# Create the GIF\n",
    "with imageio.get_writer(output_gif_path, mode='I', duration=0.5) as writer:\n",
    "    for filename in images:\n",
    "        image = imageio.imread(filename)\n",
    "        writer.append_data(image)\n",
    "\n",
    "print(f\"GIF saved at {output_gif_path}\")\n"
   ]
  },
  {
   "cell_type": "markdown",
   "metadata": {},
   "source": [
    "# Plotting individual weights across all boosting rounds "
   ]
  },
  {
   "cell_type": "code",
   "execution_count": 2,
   "metadata": {},
   "outputs": [
    {
     "data": {
      "application/vnd.jupyter.widget-view+json": {
       "model_id": "202e75887da04a028ac2394b6b522af7",
       "version_major": 2,
       "version_minor": 0
      },
      "text/plain": [
       "interactive(children=(IntSlider(value=0, description='Row Index:', layout=Layout(width='80%'), max=1000, style…"
      ]
     },
     "metadata": {},
     "output_type": "display_data"
    },
    {
     "data": {
      "text/html": [
       "<style>.widget-label { font-size: 14px; font-weight: bold; } .widget-inline-hbox { padding: 10px; }</style>"
      ],
      "text/plain": [
       "<IPython.core.display.HTML object>"
      ]
     },
     "metadata": {},
     "output_type": "display_data"
    },
    {
     "data": {
      "application/vnd.jupyter.widget-view+json": {
       "model_id": "4a01c3c339404398840fc44c6047003f",
       "version_major": 2,
       "version_minor": 0
      },
      "text/plain": [
       "IntSlider(value=0, description='Row Index:', layout=Layout(width='80%'), max=1000, style=SliderStyle(descripti…"
      ]
     },
     "metadata": {},
     "output_type": "display_data"
    },
    {
     "data": {
      "application/vnd.jupyter.widget-view+json": {
       "model_id": "051abd6529644dc8b7166f4955476177",
       "version_major": 2,
       "version_minor": 0
      },
      "text/plain": [
       "IntSlider(value=0, description='Col Index:', layout=Layout(width='80%'), max=1000, style=SliderStyle(descripti…"
      ]
     },
     "metadata": {},
     "output_type": "display_data"
    }
   ],
   "source": [
    "import pyreadr\n",
    "import pandas as pd\n",
    "import numpy as np\n",
    "import matplotlib.pyplot as plt\n",
    "import seaborn as sns\n",
    "import ipywidgets as widgets\n",
    "from IPython.display import display, HTML\n",
    "import os\n",
    "\n",
    "\n",
    "sns.set(style=\"whitegrid\")\n",
    "\n",
    "urrent_directory = os.getcwd()\n",
    "\n",
    "folder_name = \"weight_tracking\"  \n",
    "\n",
    "directory_path = os.path.join(current_directory, folder_name)\n",
    "\n",
    "file_count = len([name for name in os.listdir(directory_path) if os.path.isfile(os.path.join(directory_path, name))])\n",
    "\n",
    "# Load each matrix from the RDS files\n",
    "matrices = []\n",
    "for i in range(1, file_count + 1):\n",
    "    rds_file_path = f\"{directory_path}/S_curr_iteration_{i}.rds\"\n",
    "    rds_data = pyreadr.read_r(rds_file_path)\n",
    "    \n",
    "    matrix = None\n",
    "    for key in rds_data.keys():\n",
    "        matrix = rds_data[key]\n",
    "        \n",
    "    if isinstance(matrix, pd.DataFrame):\n",
    "        matrix = matrix.to_numpy()\n",
    "\n",
    "    matrices.append(matrix)\n",
    "\n",
    "# Convert list of matrices to a 3D numpy array (num_files, rows, columns)\n",
    "matrices = np.array(matrices)\n",
    "rows, cols = matrices.shape[1], matrices.shape[2]\n",
    "\n",
    "# Function to plot the selected matrix element across all files\n",
    "def plot_matrix_element(row_index, col_index):\n",
    "    element_values = matrices[:, row_index, col_index]  # Extract the selected element across all matrices\n",
    "    \n",
    "    plt.figure(figsize=(12, 7))\n",
    "    sns.lineplot(x=range(1, file_count + 1), y=element_values, marker='o', color=\"teal\")\n",
    "    plt.title(f\"Element [{row_index}, {col_index}] Across All Matrices\", fontsize=16, fontweight='bold')\n",
    "    plt.xlabel(\"Boosting Round\", fontsize=14)\n",
    "    plt.ylabel(\"Value\", fontsize=14)\n",
    "    plt.grid(True)\n",
    "    plt.xticks(fontsize=12)\n",
    "    plt.yticks(fontsize=12)\n",
    "    sns.despine()  \n",
    "    plt.show()\n",
    "\n",
    "# Create interactive sliders\n",
    "row_slider = widgets.IntSlider(value=0, min=0, max=rows-1, step=1, description='Row Index:',\n",
    "                               style={'description_width': 'initial'}, layout=widgets.Layout(width='80%'))\n",
    "col_slider = widgets.IntSlider(value=0, min=0, max=cols-1, step=1, description='Col Index:',\n",
    "                               style={'description_width': 'initial'}, layout=widgets.Layout(width='80%'))\n",
    "\n",
    "# Link the sliders to the plotting function\n",
    "widgets.interact(plot_matrix_element, row_index=row_slider, col_index=col_slider)\n",
    "\n",
    "# Display the sliders with some padding and styling\n",
    "display(HTML(\"<style>.widget-label { font-size: 14px; font-weight: bold; } .widget-inline-hbox { padding: 10px; }</style>\"))\n",
    "display(row_slider, col_slider)"
   ]
  }
 ],
 "metadata": {
  "kernelspec": {
   "display_name": "base",
   "language": "python",
   "name": "python3"
  },
  "language_info": {
   "codemirror_mode": {
    "name": "ipython",
    "version": 3
   },
   "file_extension": ".py",
   "mimetype": "text/x-python",
   "name": "python",
   "nbconvert_exporter": "python",
   "pygments_lexer": "ipython3",
   "version": "3.10.10"
  }
 },
 "nbformat": 4,
 "nbformat_minor": 2
}
